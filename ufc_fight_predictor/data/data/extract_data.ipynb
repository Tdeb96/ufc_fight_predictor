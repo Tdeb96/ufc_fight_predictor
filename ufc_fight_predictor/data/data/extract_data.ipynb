{
 "cells": [
  {
   "cell_type": "code",
   "execution_count": 1,
   "metadata": {},
   "outputs": [],
   "source": [
    "import pandas as pd\n",
    "from sqlalchemy import create_engine\n",
    "from sqlalchemy.engine.base import Engine"
   ]
  },
  {
   "cell_type": "code",
   "execution_count": 2,
   "metadata": {},
   "outputs": [],
   "source": [
    "def get_db_engine(\n",
    "    username: str,\n",
    "    password: str,\n",
    "    protocol: str = \"postgresql\",\n",
    "    server: str = \"localhost\",\n",
    "    port: int = 5432,\n",
    "    dbname: str = \"ufc\",\n",
    ") -> Engine:\n",
    "\n",
    "    engine = create_engine(\n",
    "        f\"{protocol}://\" f\"{username}:\" f\"{password}@\" f\"{server}:\" f\"{port}/\" f\"{dbname}\",\n",
    "        isolation_level=\"AUTOCOMMIT\",\n",
    "    )\n",
    "    return engine"
   ]
  },
  {
   "cell_type": "code",
   "execution_count": 5,
   "metadata": {},
   "outputs": [],
   "source": [
    "db_engine = get_db_engine(username=\"postgres\", password=\"postgres\")\n",
    "df_bouts = pd.read_sql_table(\"bouts\", db_engine, schema=\"ufc\")\n",
    "df_fighters = pd.read_sql_table(\"fighters\", db_engine, schema=\"ufc\")\n",
    "df_fighters_cleaned = pd.read_sql_table(\"fighters_cleaned\", db_engine, schema=\"ufc\")\n",
    "df_model_input = pd.read_sql_table(\"model_input\", db_engine, schema=\"ufc\")"
   ]
  },
  {
   "cell_type": "code",
   "execution_count": 7,
   "metadata": {},
   "outputs": [],
   "source": [
    "# Write to file system\n",
    "df_bouts.to_csv(\"bouts.csv\", index=False)\n",
    "df_fighters.to_csv(\"fighters.csv\", index=False)\n",
    "df_fighters_cleaned.to_csv(\"fighters_cleaned.csv\", index=False)\n",
    "df_model_input.to_csv(\"model_input.csv\", index=False)"
   ]
  }
 ],
 "metadata": {
  "kernelspec": {
   "display_name": "ufc-fight-predictor-MyfLQ-ai-py3.10",
   "language": "python",
   "name": "python3"
  },
  "language_info": {
   "codemirror_mode": {
    "name": "ipython",
    "version": 3
   },
   "file_extension": ".py",
   "mimetype": "text/x-python",
   "name": "python",
   "nbconvert_exporter": "python",
   "pygments_lexer": "ipython3",
   "version": "3.10.12"
  }
 },
 "nbformat": 4,
 "nbformat_minor": 2
}
